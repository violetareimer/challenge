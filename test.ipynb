{
 "cells": [
  {
   "cell_type": "markdown",
   "id": "06d1da1e-cea4-4ebc-a3e5-1c94341182a6",
   "metadata": {},
   "source": [
    "**Ejercicio 1**"
   ]
  },
  {
   "cell_type": "markdown",
   "id": "e4c76720-78d2-4cda-834a-4a7c44a9a2c9",
   "metadata": {},
   "source": [
    "*1.1 Calcular el monto total que facturará el proveedor del servicio por envíos de sms.*"
   ]
  },
  {
   "cell_type": "code",
   "execution_count": 25,
   "id": "0fc3fa2d-451c-4179-872f-5504f50519f4",
   "metadata": {},
   "outputs": [],
   "source": [
    "#Import libreries\n",
    "from pyspark.sql.functions import when,sum,md5,hour\n",
    "from pyspark.sql import SparkSession\n",
    "import matplotlib.pyplot as plt"
   ]
  },
  {
   "cell_type": "code",
   "execution_count": 33,
   "id": "28264a84-5ef7-453b-852a-bee309df831e",
   "metadata": {},
   "outputs": [
    {
     "name": "stdout",
     "output_type": "stream",
     "text": [
      "+----+-----+-------+---+----+------+---------+--------------+\n",
      "|hour|calls|seconds|sms|date|region|id_source|id_destination|\n",
      "+----+-----+-------+---+----+------+---------+--------------+\n",
      "+----+-----+-------+---+----+------+---------+--------------+\n",
      "\n",
      "El monto total a facutrar por el proveedor por sms es: $ 140757.0\n",
      "---------------------------\n"
     ]
    }
   ],
   "source": [
    "# Create a Spark session\n",
    "spark = SparkSession.builder.appName(\"ReadFile\").getOrCreate()\n",
    "\n",
    "# Read a CSV file\n",
    "df_events = spark.read.csv(\"/home/jovyan/test_grandata_data_engineer/events.csv.gz\", header=True, inferSchema=True)\n",
    "df_freesms = spark.read.csv(\"/home/jovyan/test_grandata_data_engineer/free_sms_destinations.csv.gz\", header=True, inferSchema=True)\n",
    "\n",
    "df_payed = df_events.join(df_freesms,df_events.id_destination == df_freesms.id,\"leftanti\") \n",
    "df_payed = df_payed.filter((df_payed.id_source.isNotNull()) & (df_payed.id_destination).isNotNull())\n",
    "df_payed = df_payed.filter(df_payed.sms != 0)\n",
    "\n",
    "df_payed = df_payed.withColumn(\"toPay\",\n",
    "                               when(((df_payed.region >= 1) & (df_payed.region <= 5)) , 1.5)\n",
    "                               .when(((df_payed.region >= 6) & (df_payed.region <= 9)), 2.0)\n",
    "                               .otherwise(None))\n",
    "\n",
    "total_sum = df_payed.agg(sum(\"toPay\")).collect()[0][0]\n",
    "# Show answer\n",
    "print('El monto total a facutrar por el proveedor por sms es: $',total_sum)\n",
    "print('---------------------------')\n"
   ]
  },
  {
   "cell_type": "markdown",
   "id": "434fd179-c8cb-483c-8304-7156766fc030",
   "metadata": {},
   "source": [
    "*1.2 Generar un dataset que contenga los ID de los 100 usuarios con mayor facturación por\n",
    "envío de sms y el monto total a facturar a cada uno. Además del ID, incluir el ID\n",
    "hasheado mediante el algoritmo MD5. Escribir el dataset en formato parquet con\n",
    "compresión gzip.*"
   ]
  },
  {
   "cell_type": "code",
   "execution_count": 27,
   "id": "d5cb0f87-89cc-4104-b1cb-c36810a8e057",
   "metadata": {},
   "outputs": [
    {
     "name": "stdout",
     "output_type": "stream",
     "text": [
      "+---------+-------------+--------------------+\n",
      "|id_source|total_payment|           hashed_id|\n",
      "+---------+-------------+--------------------+\n",
      "|      4D3|      18201.5|911914c7729eedbdf...|\n",
      "|      76D|      13128.0|bd180b7811395cbce...|\n",
      "|      07E|       3620.0|14a0660ae2f5d1868...|\n",
      "|      541|       1361.0|16c222aa19898e505...|\n",
      "|      B86|        950.5|bc97b32ee2abb9c18...|\n",
      "|      3AE|        672.0|6a57072949dbc409c...|\n",
      "|      1BD|        657.5|f5a45e33602ea62f9...|\n",
      "|      3E0|        628.5|e9d076deb3451cc49...|\n",
      "|      E6F|        318.0|159e1f3d6ff0e7c3c...|\n",
      "|      D0B|        291.5|e87c495061191f4df...|\n",
      "|      BD4|        274.5|aa35b36e4d1395542...|\n",
      "|      8F1|        269.5|496ce5f942d15eefb...|\n",
      "|      556|        212.5|11b921ef080f77360...|\n",
      "|      E21|        206.0|6f916a6c36cd500c3...|\n",
      "|      24F|        168.5|9f4c6198e4de6db74...|\n",
      "|      498|        159.5|05f971b5ec196b8c6...|\n",
      "|      ED9|        134.5|7d7d2b7b7d0b01a87...|\n",
      "|      2B1|        123.5|2cf07ff95f0cec031...|\n",
      "|      79F|        120.5|64b6216804418b182...|\n",
      "|      A7C|        112.5|d6248b99a00e0bdbd...|\n",
      "+---------+-------------+--------------------+\n",
      "only showing top 20 rows\n",
      "\n",
      "The file was write successfully in the folder output\n"
     ]
    }
   ],
   "source": [
    "df_maxpinvoice = (\n",
    "    df_payed\n",
    "    .groupBy(\"id_source\")\n",
    "    .agg(sum(\"toPay\").alias(\"total_payment\"))\n",
    "    .orderBy(\"total_payment\", ascending=False)  # Order in descending order\n",
    "    .limit(100)  # Limit to the first 100 rows\n",
    ")\n",
    "\n",
    "df_with_hash = df_maxpinvoice.withColumn(\"hashed_id\", md5(df_maxpinvoice.id_source))\n",
    "df_with_hash.show()\n",
    "\n",
    "#Write the dataset\n",
    "df_with_hash.write.format('parquet').option('compression', 'gzip').mode('overwrite').save('/home/jovyan/output/max_billing.csv.gz')\n",
    "print('The file was write successfully in the folder output')"
   ]
  },
  {
   "cell_type": "markdown",
   "id": "1e2a22d5-f184-45fb-a74c-ae5210d9d65e",
   "metadata": {},
   "source": [
    "*1.3 Graficar un histograma de cantidad de llamadas que se realizan por hora del día.*"
   ]
  },
  {
   "cell_type": "code",
   "execution_count": 28,
   "id": "ed735f5b-7393-41b8-8f37-2fcd2c98bdc0",
   "metadata": {},
   "outputs": [
    {
     "data": {
      "image/png": "[encoded data removed]",
      "text/plain": [
       "<Figure size 640x480 with 1 Axes>"
      ]
     },
     "metadata": {},
     "output_type": "display_data"
    }
   ],
   "source": [
    "# Crear una sesión de Spark\n",
    "#spark = SparkSession.builder.appName(\"example\").getOrCreate()\n",
    "\n",
    "# Supongamos que tienes un DataFrame llamado df_calls con una columna \"timestamp\" que contiene la marca de tiempo de cada llamada\n",
    "# df_calls = ...\n",
    "df_events_histo = df_events.filter((df_events.id_source.isNotNull()) & (df_payed.id_destination).isNotNull())\n",
    "# Calcular la cantidad de llamadas por hora\n",
    "calls_per_hour = (\n",
    "    df_events_histo\n",
    "    .groupBy(df_events_histo.hour)\n",
    "    .agg(sum(df_events_histo.calls).alias('cantllamadasxhoraxdia'))\n",
    "    .orderBy(\"hour\")\n",
    ")\n",
    "\n",
    "hours = calls_per_hour.select(\"hour\").rdd.flatMap(lambda x: x).collect()\n",
    "counts = calls_per_hour.select(\"cantllamadasxhoraxdia\").rdd.flatMap(lambda x: x).collect()\n",
    "\n",
    "# Crear el histograma utilizando matplotlib\n",
    "plt.bar(hours, counts, align='center', alpha=0.7)\n",
    "plt.xlabel(\"Hora del día\")\n",
    "plt.ylabel(\"Cantidad de llamadas\")\n",
    "plt.title(\"Cantidad de llamadas por hora del día\")\n",
    "plt.show()"
   ]
  }
 ],
 "metadata": {
  "kernelspec": {
   "display_name": "Python 3 (ipykernel)",
   "language": "python",
   "name": "python3"
  },
  "language_info": {
   "codemirror_mode": {
    "name": "ipython",
    "version": 3
   },
   "file_extension": ".py",
   "mimetype": "text/x-python",
   "name": "python",
   "nbconvert_exporter": "python",
   "pygments_lexer": "ipython3",
   "version": "3.11.6"
  }
 },
 "nbformat": 4,
 "nbformat_minor": 5
}
